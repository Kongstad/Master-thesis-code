{
 "cells": [
  {
   "cell_type": "markdown",
   "metadata": {},
   "source": [
    "# db_import_sp\n",
    "\n",
    "This script is imported by the slicing script. It serves to make it easier to deal with the geochemical data in the excel file by extracting the correct columns through names rather than its integer location. It also serves to convert coordinates to UTM and pixel location"
   ]
  },
  {
   "cell_type": "code",
   "execution_count": 1,
   "metadata": {},
   "outputs": [],
   "source": [
    "\"\"\"\n",
    "Created on Wed Aug 29 12:45:10 2018\n",
    "\n",
    "@author: kongstad\n",
    "Script for importing and manipulating excel database\n",
    "\"\"\"\n",
    "\n",
    "import utm\n",
    "import pandas as pd\n",
    "\n",
    "class measurement:\n",
    "\n",
    "    def __init__(self,db_path):\n",
    "        self._db_path = db_path\n",
    "        self.coord_Pixel =[]\n",
    "        self.coord_UTM =[]\n",
    "        \n",
    "    def setPath(self,db_path):\n",
    "        self._db_path=db_path\n",
    "        \n",
    "    def loadFile(self):\n",
    "        \"\"\"Load Excel Sheet\"\"\"\n",
    "        self.xldb=pd.ExcelFile(self._db_path)\n",
    "        # Load a sheet into a DataFrame by name\n",
    "        self.rmultiaqr = self.xldb.parse('R-Multi-AqR')\n",
    "        # Using integer location as its easier and slicing out exactly the rows i want\n",
    "        self.data_names = self.rmultiaqr.iloc[0,:].values\n",
    "        self.data_table = self.rmultiaqr.iloc[3:,:] \n",
    "            \n",
    "    def extractData(self,key):\n",
    "        if key == 'Coordinates':\n",
    "             # Since the dataset is not import friendly, this bit of code sets the 4th row\n",
    "             # The one containing the categories, as the \"key\" kategori. These lines assign\n",
    "             # The otherwise split coordinates (lat/lon) into a combined tuple under the designation\n",
    "             # Coordinates.\n",
    "             col = list(self.data_names).index(key)\n",
    "             print('Extracted Column: ' + str(col))\n",
    "             return [tuple(x) for x in self.data_table[['Unnamed: '+ str(col+1),'Unnamed: '+ str(col)]].values]\n",
    "        else:\n",
    "            # The remaning columns are assigned the name in the 4th row.\n",
    "            col = list(self.data_names).index(key)\n",
    "            print('Extracted Column: ' + str(col))\n",
    "            return self.data_table['Unnamed: ' + str(col)].values.tolist()\n",
    "            \n",
    "        \n",
    "    def UTM2Pixel(self,affine_transform):\n",
    "        \"\"\"Converts UTM coordinates to image pixel location\"\"\"\n",
    "        for coord in self.coord_UTM:\n",
    "            self.coord_Pixel.append(~affine_transform*coord)\n",
    "            \n",
    "          \n",
    "    def LatLong2UTM(self):\n",
    "        \"\"\"Converts Latitude Longitutde coordinates to UTM\"\"\"\n",
    "        for coord in self.coord_LatLon:\n",
    "            lat,lon,zone_number,zone_letter = utm.from_latlon(coord[0],coord[1])\n",
    "            self.coord_UTM.append((lat,lon))    "
   ]
  }
 ],
 "metadata": {
  "kernelspec": {
   "display_name": "Python 3",
   "language": "python",
   "name": "python3"
  },
  "language_info": {
   "codemirror_mode": {
    "name": "ipython",
    "version": 3
   },
   "file_extension": ".py",
   "mimetype": "text/x-python",
   "name": "python",
   "nbconvert_exporter": "python",
   "pygments_lexer": "ipython3",
   "version": "3.6.6"
  }
 },
 "nbformat": 4,
 "nbformat_minor": 2
}
